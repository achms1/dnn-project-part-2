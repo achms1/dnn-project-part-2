{
 "cells": [
  {
   "cell_type": "code",
   "execution_count": 1,
   "metadata": {},
   "outputs": [
    {
     "name": "stderr",
     "output_type": "stream",
     "text": [
      "Using TensorFlow backend.\n",
      "C:\\Users\\machy\\anaconda3\\lib\\site-packages\\tensorflow\\python\\framework\\dtypes.py:526: FutureWarning: Passing (type, 1) or '1type' as a synonym of type is deprecated; in a future version of numpy, it will be understood as (type, (1,)) / '(1,)type'.\n",
      "  _np_qint8 = np.dtype([(\"qint8\", np.int8, 1)])\n",
      "C:\\Users\\machy\\anaconda3\\lib\\site-packages\\tensorflow\\python\\framework\\dtypes.py:527: FutureWarning: Passing (type, 1) or '1type' as a synonym of type is deprecated; in a future version of numpy, it will be understood as (type, (1,)) / '(1,)type'.\n",
      "  _np_quint8 = np.dtype([(\"quint8\", np.uint8, 1)])\n",
      "C:\\Users\\machy\\anaconda3\\lib\\site-packages\\tensorflow\\python\\framework\\dtypes.py:528: FutureWarning: Passing (type, 1) or '1type' as a synonym of type is deprecated; in a future version of numpy, it will be understood as (type, (1,)) / '(1,)type'.\n",
      "  _np_qint16 = np.dtype([(\"qint16\", np.int16, 1)])\n",
      "C:\\Users\\machy\\anaconda3\\lib\\site-packages\\tensorflow\\python\\framework\\dtypes.py:529: FutureWarning: Passing (type, 1) or '1type' as a synonym of type is deprecated; in a future version of numpy, it will be understood as (type, (1,)) / '(1,)type'.\n",
      "  _np_quint16 = np.dtype([(\"quint16\", np.uint16, 1)])\n",
      "C:\\Users\\machy\\anaconda3\\lib\\site-packages\\tensorflow\\python\\framework\\dtypes.py:530: FutureWarning: Passing (type, 1) or '1type' as a synonym of type is deprecated; in a future version of numpy, it will be understood as (type, (1,)) / '(1,)type'.\n",
      "  _np_qint32 = np.dtype([(\"qint32\", np.int32, 1)])\n",
      "C:\\Users\\machy\\anaconda3\\lib\\site-packages\\tensorflow\\python\\framework\\dtypes.py:535: FutureWarning: Passing (type, 1) or '1type' as a synonym of type is deprecated; in a future version of numpy, it will be understood as (type, (1,)) / '(1,)type'.\n",
      "  np_resource = np.dtype([(\"resource\", np.ubyte, 1)])\n"
     ]
    }
   ],
   "source": [
    "import numpy as np\n",
    "from keras.layers import Input, Conv2D, MaxPooling2D, UpSampling2D\n",
    "from keras.models import Model\n",
    "from keras.datasets import mnist\n",
    "import tensorflow as tf\n",
    "from tensorflow import keras\n",
    "import matplotlib.pyplot as plt\n",
    "%matplotlib inline"
   ]
  },
  {
   "cell_type": "code",
   "execution_count": 2,
   "metadata": {},
   "outputs": [],
   "source": [
    "fashion_mnist = keras.datasets.fashion_mnist\n",
    "(X_train,_),(X_test,_) = fashion_mnist.load_data()"
   ]
  },
  {
   "cell_type": "code",
   "execution_count": 3,
   "metadata": {},
   "outputs": [],
   "source": [
    "# Prepare datasets\n",
    "# This step contains normalization and reshaping of input.\n",
    "# For output, it is important to change number to one-hot vector. \n",
    "X_train = X_train.astype('float32') / 255\n",
    "#X_train = X_train.reshape(X_train.shape[0], 1, 28, 28)\n",
    "X_test = X_test.astype('float32') / 255\n",
    "#X_test = X_test.reshape(X_test.shape[0], 1, 28, 28)\n",
    "X_train = np.reshape(X_train, (-1, 28, 28, 1))\n",
    "X_test = np.reshape(X_test, (-1, 28, 28, 1))\n",
    "#y_train = np_utils.to_categorical(y_train, 10)\n",
    "#y_test = np_utils.to_categorical(y_test, 10)"
   ]
  },
  {
   "cell_type": "code",
   "execution_count": 4,
   "metadata": {},
   "outputs": [
    {
     "name": "stdout",
     "output_type": "stream",
     "text": [
      "(60000, 28, 28, 1) (10000, 28, 28, 1)\n"
     ]
    }
   ],
   "source": [
    "print(X_train.shape, X_test.shape)"
   ]
  },
  {
   "cell_type": "code",
   "execution_count": 5,
   "metadata": {},
   "outputs": [
    {
     "name": "stdout",
     "output_type": "stream",
     "text": [
      "WARNING:tensorflow:From C:\\Users\\machy\\anaconda3\\lib\\site-packages\\tensorflow\\python\\ops\\resource_variable_ops.py:435: colocate_with (from tensorflow.python.framework.ops) is deprecated and will be removed in a future version.\n",
      "Instructions for updating:\n",
      "Colocations handled automatically by placer.\n"
     ]
    }
   ],
   "source": [
    "input_img = Input(shape=(28,28,1))\n",
    "x = Conv2D(16,(3,3), activation='relu', padding='same')(input_img)\n",
    "x = MaxPooling2D((2,2), padding='same')(x)\n",
    "x = Conv2D(8,(3,3), activation='relu', padding='same')(x)\n",
    "x = MaxPooling2D((2,2), padding='same')(x)\n",
    "x = Conv2D(8,(3,3), activation='relu', padding='same')(x)\n",
    "encoded = MaxPooling2D((2,2), padding='same', name='encoder')(x)\n",
    "\n",
    "x = Conv2D(8, (3, 3), activation='relu', padding='same')(encoded)\n",
    "x = UpSampling2D((2, 2))(x)\n",
    "x = Conv2D(8, (3, 3), activation='relu', padding='same')(x)\n",
    "x = UpSampling2D((2, 2))(x)\n",
    "x = Conv2D(16, (3, 3), activation='relu')(x)\n",
    "x = UpSampling2D((2, 2))(x)\n",
    "decoded = Conv2D(1, (3, 3), activation='sigmoid', padding='same')(x)\n",
    "\n",
    "autoencoder = Model(input_img, decoded)\n",
    "autoencoder.compile(optimizer='adam', loss='mse')"
   ]
  },
  {
   "cell_type": "code",
   "execution_count": 6,
   "metadata": {},
   "outputs": [],
   "source": [
    "# from tensorflow.keras.preprocessing.image import ImageDataGenerator\n",
    "\n",
    "# train_datagen = ImageDataGenerator(\n",
    "#     rescale=1./255,\n",
    "#     shear_range=0.2,\n",
    "#     zoom_range=0.2,\n",
    "#     horizontal_flip=True)\n",
    "\n",
    "# test_datagen = ImageDataGenerator(rescale=1./255)\n",
    "\n",
    "# train_generator = train_datagen.flow_from_directory(\n",
    "#     'dataset/fashionmnist/FashionMNIST',\n",
    "#     target_size=(64, 64),\n",
    "#     batch_size=32,\n",
    "#     class_mode='binary')"
   ]
  },
  {
   "cell_type": "code",
   "execution_count": 7,
   "metadata": {},
   "outputs": [],
   "source": [
    "#Reshape((224,224,3), input_shape=(160,320,3)\n",
    "#autoencoder.fit(X_train, X_train, epochs=2, batch_size=32, callbacks=None )"
   ]
  },
  {
   "cell_type": "code",
   "execution_count": 8,
   "metadata": {},
   "outputs": [],
   "source": [
    "#autoencoder.save('autoencoder.h5')\n",
    "autoencoder.load_weights('autoencoder.h5')"
   ]
  },
  {
   "cell_type": "code",
   "execution_count": 9,
   "metadata": {},
   "outputs": [
    {
     "name": "stdout",
     "output_type": "stream",
     "text": [
      "Model: \"model_1\"\n",
      "_________________________________________________________________\n",
      "Layer (type)                 Output Shape              Param #   \n",
      "=================================================================\n",
      "input_1 (InputLayer)         (None, 28, 28, 1)         0         \n",
      "_________________________________________________________________\n",
      "conv2d_1 (Conv2D)            (None, 28, 28, 16)        160       \n",
      "_________________________________________________________________\n",
      "max_pooling2d_1 (MaxPooling2 (None, 14, 14, 16)        0         \n",
      "_________________________________________________________________\n",
      "conv2d_2 (Conv2D)            (None, 14, 14, 8)         1160      \n",
      "_________________________________________________________________\n",
      "max_pooling2d_2 (MaxPooling2 (None, 7, 7, 8)           0         \n",
      "_________________________________________________________________\n",
      "conv2d_3 (Conv2D)            (None, 7, 7, 8)           584       \n",
      "_________________________________________________________________\n",
      "encoder (MaxPooling2D)       (None, 4, 4, 8)           0         \n",
      "_________________________________________________________________\n",
      "conv2d_4 (Conv2D)            (None, 4, 4, 8)           584       \n",
      "_________________________________________________________________\n",
      "up_sampling2d_1 (UpSampling2 (None, 8, 8, 8)           0         \n",
      "_________________________________________________________________\n",
      "conv2d_5 (Conv2D)            (None, 8, 8, 8)           584       \n",
      "_________________________________________________________________\n",
      "up_sampling2d_2 (UpSampling2 (None, 16, 16, 8)         0         \n",
      "_________________________________________________________________\n",
      "conv2d_6 (Conv2D)            (None, 14, 14, 16)        1168      \n",
      "_________________________________________________________________\n",
      "up_sampling2d_3 (UpSampling2 (None, 28, 28, 16)        0         \n",
      "_________________________________________________________________\n",
      "conv2d_7 (Conv2D)            (None, 28, 28, 1)         145       \n",
      "=================================================================\n",
      "Total params: 4,385\n",
      "Trainable params: 4,385\n",
      "Non-trainable params: 0\n",
      "_________________________________________________________________\n"
     ]
    }
   ],
   "source": [
    "autoencoder.summary()"
   ]
  },
  {
   "cell_type": "code",
   "execution_count": 10,
   "metadata": {},
   "outputs": [],
   "source": [
    "encoder = Model(inputs=autoencoder.input, outputs=autoencoder.get_layer('encoder').output)"
   ]
  },
  {
   "cell_type": "code",
   "execution_count": 11,
   "metadata": {},
   "outputs": [],
   "source": [
    "encoder.save('encoder.h5')"
   ]
  },
  {
   "cell_type": "code",
   "execution_count": 12,
   "metadata": {},
   "outputs": [],
   "source": [
    "#query = X_test[11]"
   ]
  },
  {
   "cell_type": "code",
   "execution_count": 13,
   "metadata": {},
   "outputs": [],
   "source": [
    "#plt.imshow(query.reshape(28,28), cmap='gray')"
   ]
  },
  {
   "cell_type": "code",
   "execution_count": 14,
   "metadata": {},
   "outputs": [],
   "source": [
    "#X_test.shape"
   ]
  },
  {
   "cell_type": "code",
   "execution_count": 15,
   "metadata": {},
   "outputs": [
    {
     "name": "stdout",
     "output_type": "stream",
     "text": [
      "Found 500 images belonging to 1 classes.\n",
      "Found 500 images belonging to 1 classes.\n",
      "<keras_preprocessing.image.directory_iterator.DirectoryIterator object at 0x000001EF74427B08>\n",
      "<keras_preprocessing.image.directory_iterator.DirectoryIterator object at 0x000001EF73D8CD48>\n"
     ]
    }
   ],
   "source": [
    "from tensorflow.keras.preprocessing.image import ImageDataGenerator\n",
    "test_datagen = ImageDataGenerator(rescale=1./255)\n",
    "X_test_itr=test_datagen.flow_from_directory(\n",
    "    '.', classes=['classes'],\n",
    "    target_size=(28, 28),\n",
    "    batch_size=500,\n",
    "    color_mode='grayscale',\n",
    "    class_mode='binary')\n",
    "validation_generator = test_datagen.flow_from_directory(\n",
    "    '.', classes=['classes'],\n",
    "    target_size=(28, 28),\n",
    "    batch_size=32,\n",
    "    color_mode='grayscale',\n",
    "    class_mode='binary')\n",
    "print(validation_generator)\n",
    "print(X_test_itr)"
   ]
  },
  {
   "cell_type": "code",
   "execution_count": 16,
   "metadata": {},
   "outputs": [],
   "source": [
    "X_test, X_test_L = X_test_itr.next()"
   ]
  },
  {
   "cell_type": "code",
   "execution_count": 17,
   "metadata": {},
   "outputs": [
    {
     "data": {
      "text/plain": [
       "(500, 28, 28, 1)"
      ]
     },
     "execution_count": 17,
     "metadata": {},
     "output_type": "execute_result"
    }
   ],
   "source": [
    "X_test.shape"
   ]
  },
  {
   "cell_type": "code",
   "execution_count": 18,
   "metadata": {},
   "outputs": [],
   "source": [
    "# query = X_test[2]\n",
    "# print(query.shape)\n",
    "# plt.imshow(query.reshape(28,28))\n",
    "# print(query.shape)"
   ]
  },
  {
   "cell_type": "code",
   "execution_count": 19,
   "metadata": {},
   "outputs": [],
   "source": [
    "codes = encoder.predict(X_train)"
   ]
  },
  {
   "cell_type": "code",
   "execution_count": 20,
   "metadata": {},
   "outputs": [
    {
     "data": {
      "text/plain": [
       "(60000, 4, 4, 8)"
      ]
     },
     "execution_count": 20,
     "metadata": {},
     "output_type": "execute_result"
    }
   ],
   "source": [
    "codes.shape"
   ]
  },
  {
   "cell_type": "code",
   "execution_count": 21,
   "metadata": {},
   "outputs": [],
   "source": [
    "# X_test[0].shape"
   ]
  },
  {
   "cell_type": "code",
   "execution_count": 22,
   "metadata": {},
   "outputs": [],
   "source": [
    "query_codes = encoder.predict(X_test)"
   ]
  },
  {
   "cell_type": "code",
   "execution_count": 23,
   "metadata": {},
   "outputs": [
    {
     "data": {
      "text/plain": [
       "(500, 4, 4, 8)"
      ]
     },
     "execution_count": 23,
     "metadata": {},
     "output_type": "execute_result"
    }
   ],
   "source": [
    "query_codes.shape"
   ]
  },
  {
   "cell_type": "code",
   "execution_count": 24,
   "metadata": {},
   "outputs": [
    {
     "name": "stdout",
     "output_type": "stream",
     "text": [
      "(60000, 128)\n",
      "(500, 128)\n"
     ]
    }
   ],
   "source": [
    "from sklearn.neighbors import NearestNeighbors\n",
    "n_neigh = 1\n",
    "codes = codes.reshape(-1, 4*4*8); print(codes.shape)\n",
    "query_codes = query_codes.reshape(-1, 4*4*8); print(query_codes.shape)"
   ]
  },
  {
   "cell_type": "code",
   "execution_count": 25,
   "metadata": {},
   "outputs": [],
   "source": [
    "#function to calculate euclidean distance\n",
    "# def euclidean_distance(a, b):\n",
    "#     return sqrt(sum((e1-e2)**2 for e1, e2 in zip(a,b)))"
   ]
  },
  {
   "cell_type": "code",
   "execution_count": 26,
   "metadata": {},
   "outputs": [],
   "source": [
    "nbrs = NearestNeighbors(n_neighbors=n_neigh).fit(codes)\n",
    "cs = []\n",
    "ed = []\n",
    "for i in range(500):\n",
    "    distances, indices = nbrs.kneighbors(np.array(query_codes[i].reshape(-1,128)))\n",
    "    closest_images = X_train[indices]\n",
    "    closest_images = closest_images.reshape(-1,28,28,1); \n",
    "    #print(closest_images.shape)\n",
    "    codes1 = encoder.predict(closest_images)\n",
    "    query_code1 = encoder.predict(X_test[i].reshape(1,28,28,1))\n",
    "    #print(query_code1.shape)\n",
    "    query_code1_temp = query_code1.reshape(128)\n",
    "    #print(query_code1_temp)\n",
    "    codes1_temp = codes1[0].reshape(128)\n",
    "    #print(codes1_temp.shape)\n",
    "    cs.append(np.dot(codes1_temp, query_code1_temp) / (np.linalg.norm(codes1_temp) * np.linalg.norm(query_code1_temp)))\n",
    "    ed.append(np.linalg.norm(codes1_temp - query_code1_temp))"
   ]
  },
  {
   "cell_type": "code",
   "execution_count": 27,
   "metadata": {},
   "outputs": [],
   "source": [
    "# query_code1_temp\n",
    "# print(codes1_temp)"
   ]
  },
  {
   "cell_type": "code",
   "execution_count": 28,
   "metadata": {},
   "outputs": [
    {
     "name": "stdout",
     "output_type": "stream",
     "text": [
      "[0.9974437, 0.9864806, 0.99156016, 0.98752433, 0.9862447, 0.9944261, 0.9955561, 0.9944046, 0.9941955, 0.994018, 0.9805097, 0.99225134, 0.9940407, 0.9771667, 0.9692537, 0.996157, 0.97961944, 0.9956751, 0.99618125, 0.97420514, 0.99200946, 0.99076766, 0.9930557, 0.9945765, 0.98488176, 0.9961542, 0.98564273, 0.99543875, 0.99152964, 0.99459714, 0.99288, 0.9896661, 0.97050077, 0.99675244, 0.9982142, 0.9971056, 0.9812528, 0.99076706, 0.9922732, 0.9847362, 0.99030966, 0.9980814, 0.95587146, 0.99470407, 0.99456376, 0.99501246, 0.9942554, 0.9976681, 0.9944122, 0.99214846, 0.99731565, 0.99505603, 0.95976216, 0.9967106, 0.99660563, 0.9740185, 0.9817656, 0.9968955, 0.99664325, 0.95224416, 0.9930289, 0.9927581, 0.9962661, 0.9888286, 0.9965628, 0.9937029, 0.9823851, 0.99540955, 0.98550457, 0.98487175, 0.99149156, 0.9952457, 0.98748034, 0.99371505, 0.95774317, 0.9924412, 0.9987693, 0.99161595, 0.9816682, 0.9891258, 0.9807286, 0.9702847, 0.9922107, 0.97294664, 0.9962847, 0.9884531, 0.98052865, 0.99812776, 0.9964305, 0.98904216, 0.9960153, 0.9926098, 0.9915141, 0.9936518, 0.99743783, 0.99319524, 0.99297255, 0.97544396, 0.9929078, 0.9930913, 0.98546827, 0.9928093, 0.996513, 0.9972591, 0.99780333, 0.98159313, 0.9912212, 0.9966462, 0.9903086, 0.9937452, 0.9951584, 0.99705523, 0.9811808, 0.9945361, 0.99397093, 0.98038465, 0.9686747, 0.99752694, 0.9930166, 0.99684525, 0.9891604, 0.99581575, 0.9963148, 0.99461174, 0.9891549, 0.9827672, 0.99604857, 0.9699839, 0.99760044, 0.99304587, 0.99235296, 0.9609402, 0.99094343, 0.9767537, 0.99166733, 0.99683595, 0.9958699, 0.9952846, 0.9908753, 0.99853945, 0.9793959, 0.9894587, 0.99803656, 0.9957096, 0.9951131, 0.9958873, 0.99460906, 0.9902308, 0.9898561, 0.9938127, 0.98082113, 0.9859628, 0.99613875, 0.990208, 0.9713067, 0.99481326, 0.99551797, 0.98066485, 0.9952471, 0.99751335, 0.9663206, 0.9817007, 0.97969925, 0.9735356, 0.99633163, 0.9870008, 0.9967136, 0.98924536, 0.9947534, 0.9864569, 0.9958666, 0.96968275, 0.9840709, 0.9948266, 0.9969167, 0.99541754, 0.99514514, 0.99450934, 0.9803248, 0.99520975, 0.9887741, 0.990801, 0.9968476, 0.9939944, 0.9886598, 0.9979403, 0.9958081, 0.99643695, 0.9950373, 0.99633443, 0.97246486, 0.99610275, 0.9949303, 0.9880718, 0.997117, 0.99675196, 0.9919678, 0.9941841, 0.9873129, 0.9952349, 0.96171975, 0.9933467, 0.9916625, 0.9851698, 0.9940534, 0.9766098, 0.988236, 0.99249, 0.987266, 0.9894069, 0.97225803, 0.9835182, 0.99566686, 0.9866995, 0.9921582, 0.98888266, 0.9964124, 0.990443, 0.9971924, 0.9925758, 0.9976496, 0.9711862, 0.9672385, 0.9936994, 0.99647444, 0.97869676, 0.9948675, 0.99309015, 0.98741525, 0.9912032, 0.9770429, 0.9867182, 0.9937977, 0.99623483, 0.98777014, 0.9973271, 0.9948885, 0.9680602, 0.99505377, 0.9922017, 0.99687296, 0.9948992, 0.98357165, 0.99520415, 0.9939596, 0.996714, 0.9935506, 0.99451375, 0.9858591, 0.99433166, 0.99411744, 0.99749947, 0.9598824, 0.99508816, 0.96895903, 0.99468917, 0.98790216, 0.995285, 0.9965782, 0.99336976, 0.99368346, 0.9936842, 0.9938915, 0.99087435, 0.99499196, 0.992073, 0.99552983, 0.9966656, 0.9912085, 0.99151003, 0.96868086, 0.9969073, 0.99148214, 0.9749819, 0.9957905, 0.9870703, 0.9970533, 0.998427, 0.98809165, 0.99351877, 0.9876672, 0.9937521, 0.99591285, 0.99267066, 0.9946572, 0.97834843, 0.99588805, 0.991954, 0.9924576, 0.9798459, 0.99563605, 0.9913164, 0.99673074, 0.99648774, 0.99601835, 0.99784, 0.99394035, 0.9761466, 0.9876273, 0.994051, 0.9734869, 0.98408425, 0.9913847, 0.9941424, 0.99285036, 0.9979187, 0.98873913, 0.9926976, 0.9953833, 0.99360424, 0.9973198, 0.99698675, 0.9949303, 0.9902352, 0.99792147, 0.99819386, 0.9807839, 0.98997724, 0.9976914, 0.9809582, 0.99680156, 0.99503165, 0.96388984, 0.995581, 0.97547007, 0.9869248, 0.98615074, 0.99792635, 0.9853891, 0.9934768, 0.9900011, 0.9708457, 0.98395133, 0.9735996, 0.99344105, 0.9870895, 0.9959455, 0.9951084, 0.9962721, 0.97810835, 0.9823738, 0.99620926, 0.99649554, 0.99357533, 0.9909015, 0.9963257, 0.98861647, 0.9903389, 0.9916844, 0.9906552, 0.98856664, 0.99623626, 0.99267954, 0.98415226, 0.98023915, 0.98974794, 0.9958355, 0.9965295, 0.9893176, 0.9825713, 0.9895301, 0.9925209, 0.9882438, 0.9911892, 0.98560524, 0.99596906, 0.9827141, 0.98865914, 0.99615765, 0.9882651, 0.98766166, 0.9971045, 0.97687066, 0.9942133, 0.99421924, 0.99608064, 0.9924591, 0.99456966, 0.9832129, 0.9896559, 0.99145615, 0.98415357, 0.99508727, 0.9894915, 0.9949929, 0.9902982, 0.9780384, 0.9965681, 0.9648768, 0.9851679, 0.98332036, 0.9944192, 0.988028, 0.986425, 0.98918575, 0.98008937, 0.99509376, 0.9914986, 0.9899002, 0.98796713, 0.994979, 0.99252766, 0.99292696, 0.99177706, 0.9682539, 0.9955295, 0.9963311, 0.9931228, 0.99387777, 0.9785283, 0.99249965, 0.9947016, 0.98119694, 0.98407847, 0.99551153, 0.98728055, 0.9944141, 0.99058414, 0.9883933, 0.9929283, 0.9872898, 0.97663295, 0.99795866, 0.9930018, 0.9947971, 0.9953998, 0.99767655, 0.985116, 0.98358047, 0.995847, 0.9934175, 0.9834385, 0.9876855, 0.9863341, 0.9941152, 0.99257165, 0.99310595, 0.9970701, 0.99329346, 0.99284446, 0.99604154, 0.9942373, 0.9893067, 0.99214226, 0.99729115, 0.98568344, 0.98978823, 0.9974565, 0.9823433, 0.9946563, 0.9962517, 0.9773144, 0.9962796, 0.99569756, 0.9972179, 0.99559224, 0.99052477, 0.9958366, 0.9954173, 0.99653876, 0.9961502, 0.98319983, 0.9913355, 0.9913413, 0.99068475, 0.9927197, 0.9918453, 0.9949791, 0.9974764, 0.9915653, 0.9925775, 0.994137, 0.9754614, 0.9868147, 0.9946544, 0.9947305, 0.9897199, 0.9965707, 0.9803258, 0.9965444, 0.99723756, 0.99538183, 0.9943845, 0.96079147, 0.97801065, 0.9937687, 0.9959926, 0.99416375, 0.9957081, 0.9959407, 0.9948795, 0.9830287, 0.9903636, 0.99124473, 0.9966343, 0.9978337, 0.9906209, 0.99294615, 0.9963945, 0.98467696]\n",
      "0.9899980293512345\n"
     ]
    }
   ],
   "source": [
    "print(cs)\n",
    "print(sum(cs)/len(cs))"
   ]
  },
  {
   "cell_type": "code",
   "execution_count": 29,
   "metadata": {},
   "outputs": [
    {
     "name": "stdout",
     "output_type": "stream",
     "text": [
      "[1.5086709, 3.3398862, 2.661681, 3.1260357, 3.3326783, 2.0674183, 2.035773, 2.254115, 2.2005553, 2.148065, 3.8703675, 2.6136584, 2.3043115, 4.1556983, 4.9373317, 1.8449348, 4.105641, 1.8781269, 1.840392, 4.8586144, 2.5409327, 2.8527787, 2.2952843, 2.0460138, 3.6677635, 1.7748132, 3.5248065, 1.9853728, 2.8652673, 2.192377, 2.447057, 2.918836, 5.082896, 1.6871277, 1.3236444, 1.6658367, 3.8975716, 2.7239618, 2.6182752, 3.263192, 2.776898, 1.3696823, 6.321064, 2.0907521, 2.1671243, 1.965514, 2.2264683, 1.3714104, 2.0540223, 2.4864056, 1.6156161, 2.0439146, 5.9423094, 1.6728088, 1.7876847, 4.5083375, 3.7129912, 1.6650002, 1.6995434, 6.4814124, 2.4265501, 2.4194736, 1.8450011, 2.9664192, 1.7292188, 2.33369, 4.314901, 2.2290761, 3.3898425, 3.9089746, 2.7701147, 2.0088115, 3.1838799, 2.1692686, 5.9999003, 2.5339699, 1.3824793, 2.8625886, 3.9351401, 2.8869405, 4.153893, 5.130542, 2.502454, 4.7131295, 1.8553799, 3.0637243, 3.9795105, 1.2705985, 1.8273515, 2.9591658, 1.9407247, 2.6726427, 2.7299926, 2.4501915, 1.5246329, 2.3273897, 2.544801, 4.4454517, 2.4241145, 2.2412922, 3.4470005, 2.5590672, 1.7151544, 1.4487787, 1.3849635, 3.843055, 2.737002, 2.0149896, 2.9782279, 2.2066333, 2.0353143, 1.643509, 3.8238187, 2.0669577, 2.1965983, 4.2175484, 5.16375, 1.4971999, 2.3467257, 1.6362482, 3.1141536, 2.1518068, 2.1328917, 2.126274, 2.9513621, 3.5571299, 1.9450557, 5.1898346, 1.4541707, 2.4208276, 2.5859177, 5.46751, 2.7207246, 4.3877363, 2.8241594, 1.6613024, 1.7984843, 2.0016763, 2.8202412, 1.2606555, 3.9314709, 2.7685118, 1.3892915, 1.9253677, 1.9044714, 1.8430487, 2.2235162, 3.0002775, 3.0986664, 2.3091426, 3.9662097, 3.4449105, 1.8440611, 2.7345142, 4.967999, 2.1339366, 2.0179172, 3.8637466, 2.0302215, 1.690426, 5.3582063, 4.1025333, 4.125989, 4.752533, 1.7803918, 3.2211814, 1.7056143, 2.8162332, 2.0553973, 3.3106823, 1.9411305, 4.734859, 3.6197617, 1.9503938, 1.7026973, 2.1820664, 2.1954756, 2.2621288, 3.996901, 2.1026275, 2.9871242, 2.9158351, 1.7195357, 2.2206135, 2.9892077, 1.3087674, 1.9017041, 1.7494866, 2.0959158, 1.7702854, 4.644141, 1.6788294, 1.9760675, 3.1088994, 1.6017659, 1.6250663, 2.5776286, 2.1046922, 3.0214024, 2.1138053, 5.514475, 2.4405322, 2.840228, 3.852873, 2.3784158, 4.430751, 2.9362018, 2.8078408, 3.0892842, 2.8507586, 5.0414343, 3.7097852, 1.9481212, 3.2957194, 2.463813, 3.0028572, 1.9542294, 2.755022, 1.6294051, 2.705195, 1.510217, 5.1436152, 5.3704433, 2.410699, 1.6376003, 4.125201, 1.9236523, 2.285817, 3.2255363, 2.6371393, 4.114002, 3.1584845, 2.1644702, 1.9896015, 3.3873627, 1.4997888, 2.1387124, 5.0632997, 1.9771553, 2.6279628, 1.6527835, 2.1156464, 3.5827708, 1.8961003, 2.1354907, 1.7057806, 2.2449617, 2.0652459, 3.4276955, 2.3295686, 2.350853, 1.5123819, 5.787153, 2.0079808, 5.614169, 2.1716404, 3.101763, 2.1547806, 1.7365863, 2.476119, 2.578713, 2.450072, 2.340252, 2.787662, 2.077466, 2.6499515, 2.122788, 1.8086344, 2.7859702, 2.71022, 5.194053, 1.7379214, 2.6059883, 4.6516795, 1.8356119, 3.264178, 1.6328484, 1.2451608, 3.1067107, 2.2307281, 3.0963693, 2.5150666, 1.8401941, 2.6397555, 2.0998557, 4.1012516, 2.0533834, 2.6061845, 2.489814, 4.2112656, 1.8163406, 2.7948313, 1.6009444, 1.7224778, 1.8892739, 1.3757086, 2.0775595, 4.323741, 3.2614653, 2.3566513, 4.520679, 3.633105, 2.6732452, 2.2076924, 2.5460658, 1.4233972, 3.0878665, 2.5248067, 1.9748899, 2.3247192, 1.5988603, 1.5829477, 2.0661242, 2.9233336, 1.3567166, 1.3776983, 4.1430206, 2.7615192, 1.4290097, 3.9440973, 1.7697406, 1.9006587, 5.3457103, 2.0055957, 4.3785305, 3.034939, 3.416856, 1.3435234, 3.5375168, 2.1312087, 2.7378428, 4.9277663, 3.5798512, 4.6475115, 2.2833622, 3.3191736, 1.8941298, 1.9328725, 1.7640299, 4.0966706, 3.7277563, 1.7739054, 1.7070615, 2.329874, 2.7435381, 1.7699145, 2.9580142, 2.9097247, 2.69805, 2.684067, 3.0553071, 1.8889629, 2.4700594, 3.563447, 3.7480626, 3.0498075, 1.8888502, 1.6624885, 3.0979762, 4.0443177, 3.0871613, 2.506179, 3.416891, 2.602978, 3.5156517, 1.7511804, 4.015984, 3.0221238, 1.748371, 2.9335716, 3.273321, 1.6337857, 4.2471495, 2.266801, 2.34264, 1.800233, 2.6276014, 2.1180446, 3.7202756, 2.8659365, 2.7173142, 3.659808, 2.0898664, 2.9279828, 2.1698844, 2.6884634, 4.223839, 1.7525413, 5.2695284, 3.549881, 3.649033, 2.024034, 3.101481, 3.3208528, 3.180357, 3.94842, 1.9230804, 2.4931629, 3.0400825, 3.2491822, 2.0110035, 2.5929048, 2.5653496, 2.541378, 4.9651065, 1.8404809, 1.9267527, 2.4555101, 2.2983289, 4.232065, 2.5063767, 2.1157444, 3.9694939, 3.6573594, 2.0566502, 3.2378383, 2.2058277, 2.8162208, 2.9835684, 2.3892412, 3.0576377, 4.223515, 1.4237883, 2.3700268, 2.1235821, 1.994959, 1.4285716, 3.4827735, 3.8323262, 1.910484, 2.617887, 3.6596632, 3.0305452, 3.3846073, 2.2488842, 2.4181116, 2.5204651, 1.6260567, 2.3484702, 2.3322566, 1.8101196, 2.2303321, 2.9504776, 2.3354752, 1.6008983, 3.3772514, 3.0842, 1.4100944, 3.922061, 2.221616, 1.8324664, 4.3837276, 1.7235479, 1.9478164, 1.624005, 1.9856539, 2.837045, 2.0833824, 1.9217983, 1.7918606, 1.7853142, 3.8605528, 2.652472, 2.5606682, 2.8895464, 2.4550943, 2.7039886, 2.1645443, 1.4432161, 2.673503, 2.3544154, 2.1878214, 4.289861, 3.1465583, 2.1642396, 2.1329815, 2.7509363, 1.7733377, 4.2327414, 1.7266234, 1.5197716, 1.904115, 2.1074805, 5.8641567, 4.476158, 2.1447234, 1.9382088, 2.281712, 1.7625508, 1.8432528, 2.0826468, 3.8839319, 2.819133, 2.7672582, 1.7392371, 1.4269152, 2.7965019, 2.455381, 1.8132318, 3.963663]\n",
      "2.7166456732749937\n"
     ]
    }
   ],
   "source": [
    "print(ed)\n",
    "print(sum(ed)/len(ed))"
   ]
  },
  {
   "cell_type": "code",
   "execution_count": 30,
   "metadata": {},
   "outputs": [
    {
     "name": "stdout",
     "output_type": "stream",
     "text": [
      "0.0\n",
      "[0. 0. 0. 0. 0. 0. 0. 0. 0. 0. 0. 0. 0. 0. 0. 0. 0. 0. 0. 0. 0. 0. 0. 0.\n",
      " 0. 0. 0. 0. 0. 0. 0. 0. 0. 0. 0. 0. 0. 0. 0. 0. 0. 0. 0. 0. 0. 0. 0. 0.\n",
      " 0. 0. 0. 0. 0. 0. 0. 0. 0. 0. 0. 0. 0. 0. 0. 0. 0. 0. 0. 0. 0. 0. 0. 0.\n",
      " 0. 0. 0. 0. 0. 0. 0. 0. 0. 0. 0. 0. 0. 0. 0. 0. 0. 0. 0. 0. 0. 0. 0. 0.\n",
      " 0. 0. 0. 0. 0. 0. 0. 0. 0. 0. 0. 0. 0. 0. 0. 0. 0. 0. 0. 0. 0. 0. 0. 0.\n",
      " 0. 0. 0. 0. 0. 0. 0. 0. 0. 0. 0. 0. 0. 0. 0. 0. 0. 0. 0. 0. 0. 0. 0. 0.\n",
      " 0. 0. 0. 0. 0. 0. 0. 0. 0. 0. 0. 0. 0. 0. 0. 0. 0. 0. 0. 0. 0. 0. 0. 0.\n",
      " 0. 0. 0. 0. 0. 0. 0. 0. 0. 0. 0. 0. 0. 0. 0. 0. 0. 0. 0. 0. 0. 0. 0. 0.\n",
      " 0. 0. 0. 0. 0. 0. 0. 0. 0. 0. 0. 0. 0. 0. 0. 0. 0. 0. 0. 0. 0. 0. 0. 0.\n",
      " 0. 0. 0. 0. 0. 0. 0. 0. 0. 0. 0. 0. 0. 0. 0. 0. 0. 0. 0. 0. 0. 0. 0. 0.\n",
      " 0. 0. 0. 0. 0. 0. 0. 0. 0. 0. 0. 0. 0. 0. 0. 0. 0. 0. 0. 0. 0. 0. 0. 0.\n",
      " 0. 0. 0. 0. 0. 0. 0. 0. 0. 0. 0. 0. 0. 0. 0. 0. 0. 0. 0. 0. 0. 0. 0. 0.\n",
      " 0. 0. 0. 0. 0. 0. 0. 0. 0. 0. 0. 0. 0. 0. 0. 0. 0. 0. 0. 0. 0. 0. 0. 0.\n",
      " 0. 0. 0. 0. 0. 0. 0. 0. 0. 0. 0. 0. 0. 0. 0. 0. 0. 0. 0. 0. 0. 0. 0. 0.\n",
      " 0. 0. 0. 0. 0. 0. 0. 0. 0. 0. 0. 0. 0. 0. 0. 0. 0. 0. 0. 0. 0. 0. 0. 0.\n",
      " 0. 0. 0. 0. 0. 0. 0. 0. 0. 0. 0. 0. 0. 0. 0. 0. 0. 0. 0. 0. 0. 0. 0. 0.\n",
      " 0. 0. 0. 0. 0. 0. 0. 0. 0. 0. 0. 0. 0. 0. 0. 0. 0. 0. 0. 0. 0. 0. 0. 0.\n",
      " 0. 0. 0. 0. 0. 0. 0. 0. 0. 0. 0. 0. 0. 0. 0. 0. 0. 0. 0. 0. 0. 0. 0. 0.\n",
      " 0. 0. 0. 0. 0. 0. 0. 0. 0. 0. 0. 0. 0. 0. 0. 0. 0. 0. 0. 0. 0. 0. 0. 0.\n",
      " 0. 0. 0. 0. 0. 0. 0. 0. 0. 0. 0. 0. 0. 0. 0. 0. 0. 0. 0. 0. 0. 0. 0. 0.\n",
      " 0. 0. 0. 0. 0. 0. 0. 0. 0. 0. 0. 0. 0. 0. 0. 0. 0. 0. 0. 0.]\n"
     ]
    },
    {
     "data": {
      "image/png": "[encoded data removed]",
      "text/plain": [
       "<Figure size 432x288 with 1 Axes>"
      ]
     },
     "metadata": {
      "needs_background": "light"
     },
     "output_type": "display_data"
    }
   ],
   "source": [
    "print(X_test_L[499])\n",
    "plt.imshow(X_test[499].reshape(28,28))\n",
    "print(X_test_L)"
   ]
  },
  {
   "cell_type": "code",
   "execution_count": 31,
   "metadata": {},
   "outputs": [
    {
     "name": "stdout",
     "output_type": "stream",
     "text": [
      "(28, 28, 1)\n"
     ]
    },
    {
     "data": {
      "image/png": "[encoded data removed]",
      "text/plain": [
       "<Figure size 1440x576 with 1 Axes>"
      ]
     },
     "metadata": {
      "needs_background": "light"
     },
     "output_type": "display_data"
    }
   ],
   "source": [
    "plt.figure(figsize=(20, 8))\n",
    "for i in range(n_neigh):\n",
    "    # display original\n",
    "    ax = plt.subplot(1, n_neigh, i+1)\n",
    "    plt.imshow(closest_images[i].reshape(28, 28))\n",
    "    print(closest_images[i].shape)\n",
    "    #plt.gray()\n",
    "    ax.get_xaxis().set_visible(False)\n",
    "    ax.get_yaxis().set_visible(False)\n",
    "    \n",
    "plt.show()"
   ]
  },
  {
   "cell_type": "code",
   "execution_count": null,
   "metadata": {},
   "outputs": [],
   "source": []
  }
 ],
 "metadata": {
  "kernelspec": {
   "display_name": "Python 3",
   "language": "python",
   "name": "python3"
  },
  "language_info": {
   "codemirror_mode": {
    "name": "ipython",
    "version": 3
   },
   "file_extension": ".py",
   "mimetype": "text/x-python",
   "name": "python",
   "nbconvert_exporter": "python",
   "pygments_lexer": "ipython3",
   "version": "3.7.4"
  }
 },
 "nbformat": 4,
 "nbformat_minor": 2
}
